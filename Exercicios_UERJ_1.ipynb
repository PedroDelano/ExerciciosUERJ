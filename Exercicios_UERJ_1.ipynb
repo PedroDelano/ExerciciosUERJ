{
  "nbformat": 4,
  "nbformat_minor": 0,
  "metadata": {
    "colab": {
      "name": "Exercicios_UERJ_1.ipynb",
      "provenance": [],
      "collapsed_sections": [],
      "authorship_tag": "ABX9TyNH0MoJyjiOq6qnBQ4O4Zc9",
      "include_colab_link": true
    },
    "kernelspec": {
      "name": "python3",
      "display_name": "Python 3"
    }
  },
  "cells": [
    {
      "cell_type": "markdown",
      "metadata": {
        "id": "view-in-github",
        "colab_type": "text"
      },
      "source": [
        "<a href=\"https://colab.research.google.com/github/PedroDelano/ExerciciosUERJ/blob/main/Exercicios_UERJ_1.ipynb\" target=\"_parent\"><img src=\"https://colab.research.google.com/assets/colab-badge.svg\" alt=\"Open In Colab\"/></a>"
      ]
    },
    {
      "cell_type": "markdown",
      "metadata": {
        "id": "bAi9TZqeV-IL"
      },
      "source": [
        " # Exercício I\n",
        " Se você fizer uma corrida de 10 quilômetros em 43 minutos e 30 segundos, qual será seu tempo médio por milha? Qual é a sua velocidade média em milhas por hora? (Dica: há 1,61 quilômetros em uma milha). "
      ]
    },
    {
      "cell_type": "code",
      "metadata": {
        "colab": {
          "base_uri": "https://localhost:8080/"
        },
        "id": "bmGmRMuJV6vQ",
        "outputId": "559273f7-bd71-4c5f-d1fd-0d79122ba479"
      },
      "source": [
        "def velocidade_em_milhas(distancia, tempo):\n",
        "  \n",
        "  ## Distância em quilômetros\n",
        "  ## Tempo em segundos\n",
        "\n",
        "  ## Segundos para horas\n",
        "  horas = tempo / 3600\n",
        "\n",
        "  ## Distancia em milhas\n",
        "  milhas = distancia / 1.61\n",
        "\n",
        "  ## Velocidade media [milhas / hora]\n",
        "  velocidade_media = milhas / horas\n",
        "\n",
        "  return velocidade_media\n",
        "\n",
        "velocidade_em_milhas(10, 2610)"
      ],
      "execution_count": null,
      "outputs": [
        {
          "output_type": "execute_result",
          "data": {
            "text/plain": [
              "8.567144998929106"
            ]
          },
          "metadata": {
            "tags": []
          },
          "execution_count": 2
        }
      ]
    },
    {
      "cell_type": "markdown",
      "metadata": {
        "id": "7THg4rmTXKMx"
      },
      "source": [
        "Resposta: O tempo foi de 2610 segundos e a distância foi de 10 Km, portanto, a velocidade média foi de 8,56 milhas por hora."
      ]
    },
    {
      "cell_type": "markdown",
      "metadata": {
        "id": "Qa4Blw0GXtEt"
      },
      "source": [
        "# Exercicio II\n",
        "\n",
        "Desde sua varanda você escuta o som do primeiro fogo artificial do reveillon 3 segundos depois de ver a luz, qual a distância? (o som tem velocidade 343 m/s e a luz $3\\times 10^8$ m/s).\n",
        "\n",
        "Por definição:\n",
        "\n",
        "$c = \\frac{\\Delta S}{\\Delta t} = \\frac{\\Delta S}{(t - t_{0})}$\n",
        "\n",
        "Vamos definir $t_0 = 0$ de forma que:\n",
        "\n",
        "$c = \\frac{\\Delta S}{t} \\rightarrow t = \\frac{\\Delta S}{c}$\n",
        "\n",
        "Analogamente:\n",
        "\n",
        "$v_s = \\frac{\\Delta S}{(t + t')}$\n",
        "\n",
        "Portanto:\n",
        "\n",
        "$\\Delta S = t' \\cdot \\frac{cv_s}{(c + v_s)} = (342,99)t'$\n",
        "\n"
      ]
    },
    {
      "cell_type": "code",
      "metadata": {
        "id": "F8ZgrAcTXxXW",
        "colab": {
          "base_uri": "https://localhost:8080/"
        },
        "outputId": "6e10291c-849b-4a97-d8b8-5b4b5854af8c"
      },
      "source": [
        "def distancia(tempo):\n",
        "  c = 3e8\n",
        "  vs = 343\n",
        "  factor = c*vs / (c+vs)\n",
        "  return tempo * factor\n",
        "\n",
        "distancia(3)"
      ],
      "execution_count": 5,
      "outputs": [
        {
          "output_type": "execute_result",
          "data": {
            "text/plain": [
              "1028.998823511345"
            ]
          },
          "metadata": {
            "tags": []
          },
          "execution_count": 5
        }
      ]
    },
    {
      "cell_type": "markdown",
      "metadata": {
        "id": "gYtEDozO4rfE"
      },
      "source": [
        "Resposta: A distância entre os fogos e o ouvinte é de $\\approx1023[m]$"
      ]
    },
    {
      "cell_type": "markdown",
      "metadata": {
        "id": "Dcs9cIDE45KE"
      },
      "source": [
        "#Exercício III\n",
        "\n",
        "Ache os zeros da função: \n",
        "\n",
        "$y(x) = 3x^2 - 4x - 10$\n",
        "\n",
        "Os zeros de uma eq. de segundo grau são:\n",
        "\n",
        "$x = \\frac{-b \\pm \\sqrt{b^2 - 4ac}}{2a}$"
      ]
    },
    {
      "cell_type": "code",
      "metadata": {
        "colab": {
          "base_uri": "https://localhost:8080/"
        },
        "id": "AZ-ols3J5z3d",
        "outputId": "44d95989-42a2-42bd-8d1f-3fff48309667"
      },
      "source": [
        "import numpy as np\n",
        "def zero_function(a, b, c):\n",
        "  delta = np.sqrt(b**2 - (4*a*c))\n",
        "  x_0 = (-b + delta) / (2*a)\n",
        "  x_1 = (-b - delta) / (2*a)\n",
        "  return x_0, x_1\n",
        "\n",
        "x0, x1 = zero_function(3, -4, -10)\n",
        "print (x0, x1)"
      ],
      "execution_count": 14,
      "outputs": [
        {
          "output_type": "stream",
          "text": [
            "2.610317298281767 -1.2769839649484336\n"
          ],
          "name": "stdout"
        }
      ]
    },
    {
      "cell_type": "markdown",
      "metadata": {
        "id": "xZ0sj9Le8ev_"
      },
      "source": [
        "Solução:\n",
        "\n",
        "$x_0 \\approx 2,61$\n",
        "\n",
        "$x_1 \\approx -1,27$"
      ]
    },
    {
      "cell_type": "markdown",
      "metadata": {
        "id": "qwDtYnFy9uQ5"
      },
      "source": [
        "# Exercício IV\n",
        "\n",
        "Se, ao meiodia, a sombra de um poste de 5 m de altura tem apenas 50 cm de comprimento no chão, qual o ângulo zenital do sol?\n",
        "\n",
        "O ângulo zenital é definido por:\n",
        "\n",
        "$\\phi = \\arctan(\\frac{S}{h})$\n",
        "\n",
        "Onde $S$ é o tamanho da sombra e $h$ é o tamanho do poste."
      ]
    },
    {
      "cell_type": "code",
      "metadata": {
        "colab": {
          "base_uri": "https://localhost:8080/"
        },
        "id": "s-K5nlHFUN-2",
        "outputId": "ff7fc261-6cf3-4c8e-da1a-5ddcc5d9b3c9"
      },
      "source": [
        "import numpy as np\n",
        "def angulo_zenital(s, h):\n",
        "  return (180/np.pi) * np.arctan(s/h)\n",
        "\n",
        "angulo_zenital(5, 50/100)"
      ],
      "execution_count": 16,
      "outputs": [
        {
          "output_type": "execute_result",
          "data": {
            "text/plain": [
              "84.28940686250037"
            ]
          },
          "metadata": {
            "tags": []
          },
          "execution_count": 16
        }
      ]
    },
    {
      "cell_type": "markdown",
      "metadata": {
        "id": "3I6-RVy_VXGi"
      },
      "source": [
        "Solução: O ângulo zenital é de $\\approx 84,29°$"
      ]
    },
    {
      "cell_type": "markdown",
      "metadata": {
        "id": "VcFRHsOsWSPm"
      },
      "source": [
        "# Exercício V\n",
        "\n",
        " Calcule o seu IMC: IMC = M / A^2 (com a massa em Kg e a altura em metros). Um valor saudável estara --em geral-- entre 20-25. Um bebê de 6 meses \"gorducho\" tem 70 cm de \"comprimento\" e 11 kg de massa, qual o IMC dele? "
      ]
    },
    {
      "cell_type": "code",
      "metadata": {
        "colab": {
          "base_uri": "https://localhost:8080/"
        },
        "id": "u1WSWOUrWU6V",
        "outputId": "fda5355d-3046-4132-9b84-943fa21f1abd"
      },
      "source": [
        "def imc(massa, altura):\n",
        "  return massa / (altura**2)\n",
        "\n",
        "print (f\"Meu IMC: {imc(90, 1.71)}\")\n",
        "print (f\"IMC do bebê gorducho: {imc(11, 0.7)}\")"
      ],
      "execution_count": 19,
      "outputs": [
        {
          "output_type": "stream",
          "text": [
            "Meu IMC: 30.778701138811947\n",
            "IMC do bebê gorducho: 22.44897959183674\n"
          ],
          "name": "stdout"
        }
      ]
    },
    {
      "cell_type": "markdown",
      "metadata": {
        "id": "HE1oNomHWyxK"
      },
      "source": [
        "# Exercício VI\n",
        "\n",
        "Calcule a velocidade final de um objeto em queda livre a partir de 3 metros de altura (sem resistencia do ar). Calcule o tempo que esse objeto demora para cair. \n",
        "\n",
        "A dinâmica de queda livre é da forma:\n",
        "\n",
        "$mgh = \\frac{mv^2}{2}$\n",
        "\n",
        "$v = \\sqrt{2gh}$\n"
      ]
    },
    {
      "cell_type": "code",
      "metadata": {
        "colab": {
          "base_uri": "https://localhost:8080/"
        },
        "id": "wmho3Jm0XYiP",
        "outputId": "69be4eae-bc01-4a00-98c6-64dd5028759e"
      },
      "source": [
        "def queda_livre(altura):\n",
        "  g = 9.8\n",
        "  return np.sqrt(2*g*altura)\n",
        "\n",
        "queda_livre(3)"
      ],
      "execution_count": 21,
      "outputs": [
        {
          "output_type": "execute_result",
          "data": {
            "text/plain": [
              "7.6681158050723255"
            ]
          },
          "metadata": {
            "tags": []
          },
          "execution_count": 21
        }
      ]
    },
    {
      "cell_type": "markdown",
      "metadata": {
        "id": "j08ckifHYrvo"
      },
      "source": [
        "Solução: A velocidade final do objeto é de $\\approx 7,67 [\\frac{m}{s}]$"
      ]
    }
  ]
}